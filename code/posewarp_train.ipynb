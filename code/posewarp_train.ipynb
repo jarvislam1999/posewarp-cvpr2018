{
 "cells": [
  {
   "cell_type": "code",
   "execution_count": 1,
   "metadata": {},
   "outputs": [
    {
     "name": "stderr",
     "output_type": "stream",
     "text": [
      "Using TensorFlow backend.\n"
     ]
    }
   ],
   "source": [
    "import tensorflow as tf\n",
    "import os\n",
    "import sys\n",
    "import data_generation\n",
    "import networks\n",
    "import scipy.io as sio\n",
    "import param\n",
    "import util\n",
    "import truncated_vgg\n",
    "from keras.backend.tensorflow_backend import set_session\n",
    "from keras.optimizers import Adam"
   ]
  },
  {
   "cell_type": "code",
   "execution_count": 2,
   "metadata": {
    "collapsed": true
   },
   "outputs": [],
   "source": [
    "def train(model_name, gpu_id):\n",
    "    params = param.get_general_params()\n",
    "\n",
    "    network_dir = params['model_save_dir'] + '/' + model_name\n",
    "\n",
    "    if not os.path.isdir(network_dir):\n",
    "        os.mkdir(network_dir)\n",
    "\n",
    "    train_feed = data_generation.create_feed(params, params['data_dir'], 'train')\n",
    "\n",
    "    os.environ[\"CUDA_VISIBLE_DEVICES\"] = str(gpu_id)\n",
    "    config = tf.ConfigProto()\n",
    "    config.gpu_options.allow_growth = True\n",
    "    set_session(tf.Session(config=config))\n",
    "\n",
    "    vgg_model = truncated_vgg.vgg_norm()\n",
    "    networks.make_trainable(vgg_model, False)\n",
    "    response_weights = sio.loadmat('../data/vgg_activation_distribution_train.mat')\n",
    "    model = networks.network_posewarp(params)\n",
    "    model.compile(optimizer=Adam(lr=1e-4), loss=[networks.vgg_loss(vgg_model, response_weights, 12)])\n",
    "\n",
    "    #model.summary()\n",
    "    n_iters = params['n_training_iter']\n",
    "\n",
    "    for step in range(0, n_iters):\n",
    "        x, y = next(train_feed)\n",
    "\n",
    "        train_loss = model.train_on_batch(x, y)\n",
    "\n",
    "        util.printProgress(step, 0, train_loss)\n",
    "\n",
    "        if step > 0 and step % params['model_save_interval'] == 0:\n",
    "            model.save(network_dir + '/' + str(step) + '.h5')"
   ]
  },
  {
   "cell_type": "code",
   "execution_count": 3,
   "metadata": {
    "collapsed": true
   },
   "outputs": [],
   "source": [
    "params = param.get_general_params()"
   ]
  },
  {
   "cell_type": "code",
   "execution_count": 4,
   "metadata": {},
   "outputs": [
    {
     "data": {
      "text/plain": [
       "{'IMG_HEIGHT': 256,\n",
       " 'IMG_WIDTH': 256,\n",
       " 'batch_size': 1,\n",
       " 'data_dir': '/mnt/data/jarvislam1999/posewarp-cvpr2018/data',\n",
       " 'limbs': [[0, 1],\n",
       "  [2, 3],\n",
       "  [3, 4],\n",
       "  [5, 6],\n",
       "  [6, 7],\n",
       "  [8, 9],\n",
       "  [9, 10],\n",
       "  [11, 12],\n",
       "  [12, 13],\n",
       "  [2, 5, 8, 11]],\n",
       " 'max_px_shift': 10,\n",
       " 'max_rotate_degree': 5,\n",
       " 'max_sat_factor': 0.05,\n",
       " 'model_save_dir': '/mnt/data/jarvislam1999/posewarp-cvpr2018/models',\n",
       " 'model_save_interval': 1000,\n",
       " 'n_joints': 14,\n",
       " 'n_limbs': 10,\n",
       " 'n_training_iter': 200000,\n",
       " 'obj_scale_factor': 1.14,\n",
       " 'posemap_downsample': 2,\n",
       " 'project_dir': '/mnt/data/jarvislam1999/posewarp-cvpr2018',\n",
       " 'scale_max': 1.05,\n",
       " 'scale_min': 0.9,\n",
       " 'sigma_joint': 1.75,\n",
       " 'test_interval': 500}"
      ]
     },
     "execution_count": 4,
     "metadata": {},
     "output_type": "execute_result"
    }
   ],
   "source": [
    "params"
   ]
  },
  {
   "cell_type": "code",
   "execution_count": 5,
   "metadata": {
    "collapsed": true
   },
   "outputs": [],
   "source": [
    "params = param.get_general_params()"
   ]
  },
  {
   "cell_type": "code",
   "execution_count": 6,
   "metadata": {
    "collapsed": true
   },
   "outputs": [],
   "source": [
    "model_name = 'vgg_100000.h5'"
   ]
  },
  {
   "cell_type": "code",
   "execution_count": 7,
   "metadata": {
    "collapsed": true
   },
   "outputs": [],
   "source": [
    "network_dir = params['model_save_dir'] + '/' + model_name"
   ]
  },
  {
   "cell_type": "code",
   "execution_count": 8,
   "metadata": {},
   "outputs": [
    {
     "data": {
      "text/plain": [
       "'/mnt/data/jarvislam1999/posewarp-cvpr2018/models/vgg_100000.h5'"
      ]
     },
     "execution_count": 8,
     "metadata": {},
     "output_type": "execute_result"
    }
   ],
   "source": [
    "network_dir"
   ]
  },
  {
   "cell_type": "code",
   "execution_count": 9,
   "metadata": {},
   "outputs": [
    {
     "data": {
      "text/plain": [
       "'/mnt/data/jarvislam1999/posewarp-cvpr2018/data'"
      ]
     },
     "execution_count": 9,
     "metadata": {},
     "output_type": "execute_result"
    }
   ],
   "source": [
    "params['data_dir']"
   ]
  },
  {
   "cell_type": "code",
   "execution_count": 10,
   "metadata": {},
   "outputs": [
    {
     "data": {
      "text/plain": [
       "True"
      ]
     },
     "execution_count": 10,
     "metadata": {},
     "output_type": "execute_result"
    }
   ],
   "source": [
    "os.path.isdir(params['model_save_dir'])"
   ]
  },
  {
   "cell_type": "code",
   "execution_count": 11,
   "metadata": {
    "collapsed": true
   },
   "outputs": [],
   "source": [
    "if not os.path.isdir(params['model_save_dir']):\n",
    "    os.mkdir(params['model_save_dir'])"
   ]
  },
  {
   "cell_type": "code",
   "execution_count": 12,
   "metadata": {
    "collapsed": true
   },
   "outputs": [],
   "source": [
    "train_feed = data_generation.create_feed(params, params['data_dir'], 'train')"
   ]
  },
  {
   "cell_type": "code",
   "execution_count": 13,
   "metadata": {},
   "outputs": [
    {
     "data": {
      "text/plain": [
       "<generator object warp_example_generator at 0x7f9319437c50>"
      ]
     },
     "execution_count": 13,
     "metadata": {},
     "output_type": "execute_result"
    }
   ],
   "source": [
    "train_feed"
   ]
  },
  {
   "cell_type": "code",
   "execution_count": 14,
   "metadata": {
    "collapsed": true
   },
   "outputs": [],
   "source": [
    "os.environ[\"CUDA_VISIBLE_DEVICES\"] = '0'\n",
    "config = tf.ConfigProto()\n",
    "config.gpu_options.allow_growth = True\n",
    "set_session(tf.Session(config=config))"
   ]
  },
  {
   "cell_type": "code",
   "execution_count": 15,
   "metadata": {},
   "outputs": [
    {
     "name": "stdout",
     "output_type": "stream",
     "text": [
      "WARNING:tensorflow:From /home/jarvislam1999/anaconda3/lib/python3.6/site-packages/tensorflow/python/framework/op_def_library.py:263: colocate_with (from tensorflow.python.framework.ops) is deprecated and will be removed in a future version.\n",
      "Instructions for updating:\n",
      "Colocations handled automatically by placer.\n"
     ]
    }
   ],
   "source": [
    "vgg_model = truncated_vgg.vgg_norm()\n",
    "networks.make_trainable(vgg_model, False)\n",
    "response_weights = sio.loadmat('../data/vgg_activation_distribution_train.mat')\n",
    "model = networks.network_posewarp(params)\n",
    "model.compile(optimizer=Adam(lr=1e-4), loss=[networks.vgg_loss(vgg_model, response_weights, 12)])"
   ]
  },
  {
   "cell_type": "code",
   "execution_count": 16,
   "metadata": {},
   "outputs": [
    {
     "name": "stdout",
     "output_type": "stream",
     "text": [
      "WARNING:tensorflow:From /home/jarvislam1999/anaconda3/lib/python3.6/site-packages/tensorflow/python/ops/array_grad.py:425: to_int32 (from tensorflow.python.ops.math_ops) is deprecated and will be removed in a future version.\n",
      "Instructions for updating:\n",
      "Use tf.cast instead.\n"
     ]
    },
    {
     "name": "stderr",
     "output_type": "stream",
     "text": [
      "/home/jarvislam1999/anaconda3/lib/python3.6/site-packages/tensorflow/python/ops/gradients_impl.py:110: UserWarning: Converting sparse IndexedSlices to a dense Tensor of unknown shape. This may consume a large amount of memory.\n",
      "  \"Converting sparse IndexedSlices to a dense Tensor of unknown shape. \"\n"
     ]
    },
    {
     "name": "stdout",
     "output_type": "stream",
     "text": [
      "WARNING:tensorflow:From /home/jarvislam1999/anaconda3/lib/python3.6/site-packages/tensorflow/python/ops/math_grad.py:102: div (from tensorflow.python.ops.math_ops) is deprecated and will be removed in a future version.\n",
      "Instructions for updating:\n",
      "Deprecated in favor of operator or tf.math.divide.\n",
      "0,0,0.401758\n",
      "1,0,0.396321\n",
      "2,0,0.383585\n",
      "3,0,0.38894\n",
      "4,0,0.372299\n",
      "5,0,0.359971\n",
      "6,0,0.388343\n",
      "7,0,0.37485\n",
      "8,0,0.382665\n",
      "9,0,0.352024\n",
      "10,0,0.365384\n",
      "11,0,0.364588\n",
      "12,0,0.329552\n",
      "13,0,0.385734\n",
      "14,0,0.363205\n",
      "15,0,0.320669\n",
      "16,0,0.369317\n",
      "17,0,0.325524\n",
      "18,0,0.346348\n",
      "19,0,0.317351\n",
      "20,0,0.326536\n",
      "21,0,0.343946\n",
      "22,0,0.327916\n",
      "23,0,0.330689\n",
      "24,0,0.324959\n",
      "25,0,0.353021\n",
      "26,0,0.34472\n",
      "27,0,0.34183\n",
      "28,0,0.328171\n",
      "29,0,0.309264\n",
      "30,0,0.275217\n",
      "31,0,0.290652\n",
      "32,0,0.300195\n",
      "33,0,0.296611\n",
      "34,0,0.284229\n",
      "35,0,0.327151\n",
      "36,0,0.343696\n",
      "37,0,0.31312\n",
      "38,0,0.328172\n",
      "39,0,0.258299\n",
      "40,0,0.293144\n",
      "41,0,0.303723\n",
      "42,0,0.330986\n",
      "43,0,0.274078\n",
      "44,0,0.283903\n",
      "45,0,0.264392\n",
      "46,0,0.268838\n",
      "47,0,0.233552\n",
      "48,0,0.320612\n",
      "49,0,0.289181\n",
      "50,0,0.284629\n",
      "51,0,0.29228\n"
     ]
    },
    {
     "ename": "KeyboardInterrupt",
     "evalue": "",
     "output_type": "error",
     "traceback": [
      "\u001b[0;31m---------------------------------------------------------------------------\u001b[0m",
      "\u001b[0;31mKeyboardInterrupt\u001b[0m                         Traceback (most recent call last)",
      "\u001b[0;32m<ipython-input-16-3cc6dbf740a2>\u001b[0m in \u001b[0;36m<module>\u001b[0;34m()\u001b[0m\n\u001b[1;32m      5\u001b[0m     \u001b[0mx\u001b[0m\u001b[0;34m,\u001b[0m \u001b[0my\u001b[0m \u001b[0;34m=\u001b[0m \u001b[0mnext\u001b[0m\u001b[0;34m(\u001b[0m\u001b[0mtrain_feed\u001b[0m\u001b[0;34m)\u001b[0m\u001b[0;34m\u001b[0m\u001b[0;34m\u001b[0m\u001b[0m\n\u001b[1;32m      6\u001b[0m \u001b[0;34m\u001b[0m\u001b[0m\n\u001b[0;32m----> 7\u001b[0;31m     \u001b[0mtrain_loss\u001b[0m \u001b[0;34m=\u001b[0m \u001b[0mmodel\u001b[0m\u001b[0;34m.\u001b[0m\u001b[0mtrain_on_batch\u001b[0m\u001b[0;34m(\u001b[0m\u001b[0mx\u001b[0m\u001b[0;34m,\u001b[0m \u001b[0my\u001b[0m\u001b[0;34m)\u001b[0m\u001b[0;34m\u001b[0m\u001b[0;34m\u001b[0m\u001b[0m\n\u001b[0m\u001b[1;32m      8\u001b[0m \u001b[0;34m\u001b[0m\u001b[0m\n\u001b[1;32m      9\u001b[0m     \u001b[0mutil\u001b[0m\u001b[0;34m.\u001b[0m\u001b[0mprintProgress\u001b[0m\u001b[0;34m(\u001b[0m\u001b[0mstep\u001b[0m\u001b[0;34m,\u001b[0m \u001b[0;36m0\u001b[0m\u001b[0;34m,\u001b[0m \u001b[0mtrain_loss\u001b[0m\u001b[0;34m)\u001b[0m\u001b[0;34m\u001b[0m\u001b[0;34m\u001b[0m\u001b[0m\n",
      "\u001b[0;32m~/anaconda3/lib/python3.6/site-packages/keras/engine/training.py\u001b[0m in \u001b[0;36mtrain_on_batch\u001b[0;34m(self, x, y, sample_weight, class_weight)\u001b[0m\n\u001b[1;32m   1215\u001b[0m             \u001b[0mins\u001b[0m \u001b[0;34m=\u001b[0m \u001b[0mx\u001b[0m \u001b[0;34m+\u001b[0m \u001b[0my\u001b[0m \u001b[0;34m+\u001b[0m \u001b[0msample_weights\u001b[0m\u001b[0;34m\u001b[0m\u001b[0;34m\u001b[0m\u001b[0m\n\u001b[1;32m   1216\u001b[0m         \u001b[0mself\u001b[0m\u001b[0;34m.\u001b[0m\u001b[0m_make_train_function\u001b[0m\u001b[0;34m(\u001b[0m\u001b[0;34m)\u001b[0m\u001b[0;34m\u001b[0m\u001b[0;34m\u001b[0m\u001b[0m\n\u001b[0;32m-> 1217\u001b[0;31m         \u001b[0moutputs\u001b[0m \u001b[0;34m=\u001b[0m \u001b[0mself\u001b[0m\u001b[0;34m.\u001b[0m\u001b[0mtrain_function\u001b[0m\u001b[0;34m(\u001b[0m\u001b[0mins\u001b[0m\u001b[0;34m)\u001b[0m\u001b[0;34m\u001b[0m\u001b[0;34m\u001b[0m\u001b[0m\n\u001b[0m\u001b[1;32m   1218\u001b[0m         \u001b[0;32mreturn\u001b[0m \u001b[0munpack_singleton\u001b[0m\u001b[0;34m(\u001b[0m\u001b[0moutputs\u001b[0m\u001b[0;34m)\u001b[0m\u001b[0;34m\u001b[0m\u001b[0;34m\u001b[0m\u001b[0m\n\u001b[1;32m   1219\u001b[0m \u001b[0;34m\u001b[0m\u001b[0m\n",
      "\u001b[0;32m~/anaconda3/lib/python3.6/site-packages/keras/backend/tensorflow_backend.py\u001b[0m in \u001b[0;36m__call__\u001b[0;34m(self, inputs)\u001b[0m\n\u001b[1;32m   2713\u001b[0m                 \u001b[0;32mreturn\u001b[0m \u001b[0mself\u001b[0m\u001b[0;34m.\u001b[0m\u001b[0m_legacy_call\u001b[0m\u001b[0;34m(\u001b[0m\u001b[0minputs\u001b[0m\u001b[0;34m)\u001b[0m\u001b[0;34m\u001b[0m\u001b[0;34m\u001b[0m\u001b[0m\n\u001b[1;32m   2714\u001b[0m \u001b[0;34m\u001b[0m\u001b[0m\n\u001b[0;32m-> 2715\u001b[0;31m             \u001b[0;32mreturn\u001b[0m \u001b[0mself\u001b[0m\u001b[0;34m.\u001b[0m\u001b[0m_call\u001b[0m\u001b[0;34m(\u001b[0m\u001b[0minputs\u001b[0m\u001b[0;34m)\u001b[0m\u001b[0;34m\u001b[0m\u001b[0;34m\u001b[0m\u001b[0m\n\u001b[0m\u001b[1;32m   2716\u001b[0m         \u001b[0;32melse\u001b[0m\u001b[0;34m:\u001b[0m\u001b[0;34m\u001b[0m\u001b[0;34m\u001b[0m\u001b[0m\n\u001b[1;32m   2717\u001b[0m             \u001b[0;32mif\u001b[0m \u001b[0mpy_any\u001b[0m\u001b[0;34m(\u001b[0m\u001b[0mis_tensor\u001b[0m\u001b[0;34m(\u001b[0m\u001b[0mx\u001b[0m\u001b[0;34m)\u001b[0m \u001b[0;32mfor\u001b[0m \u001b[0mx\u001b[0m \u001b[0;32min\u001b[0m \u001b[0minputs\u001b[0m\u001b[0;34m)\u001b[0m\u001b[0;34m:\u001b[0m\u001b[0;34m\u001b[0m\u001b[0;34m\u001b[0m\u001b[0m\n",
      "\u001b[0;32m~/anaconda3/lib/python3.6/site-packages/keras/backend/tensorflow_backend.py\u001b[0m in \u001b[0;36m_call\u001b[0;34m(self, inputs)\u001b[0m\n\u001b[1;32m   2673\u001b[0m             \u001b[0mfetched\u001b[0m \u001b[0;34m=\u001b[0m \u001b[0mself\u001b[0m\u001b[0;34m.\u001b[0m\u001b[0m_callable_fn\u001b[0m\u001b[0;34m(\u001b[0m\u001b[0;34m*\u001b[0m\u001b[0marray_vals\u001b[0m\u001b[0;34m,\u001b[0m \u001b[0mrun_metadata\u001b[0m\u001b[0;34m=\u001b[0m\u001b[0mself\u001b[0m\u001b[0;34m.\u001b[0m\u001b[0mrun_metadata\u001b[0m\u001b[0;34m)\u001b[0m\u001b[0;34m\u001b[0m\u001b[0;34m\u001b[0m\u001b[0m\n\u001b[1;32m   2674\u001b[0m         \u001b[0;32melse\u001b[0m\u001b[0;34m:\u001b[0m\u001b[0;34m\u001b[0m\u001b[0;34m\u001b[0m\u001b[0m\n\u001b[0;32m-> 2675\u001b[0;31m             \u001b[0mfetched\u001b[0m \u001b[0;34m=\u001b[0m \u001b[0mself\u001b[0m\u001b[0;34m.\u001b[0m\u001b[0m_callable_fn\u001b[0m\u001b[0;34m(\u001b[0m\u001b[0;34m*\u001b[0m\u001b[0marray_vals\u001b[0m\u001b[0;34m)\u001b[0m\u001b[0;34m\u001b[0m\u001b[0;34m\u001b[0m\u001b[0m\n\u001b[0m\u001b[1;32m   2676\u001b[0m         \u001b[0;32mreturn\u001b[0m \u001b[0mfetched\u001b[0m\u001b[0;34m[\u001b[0m\u001b[0;34m:\u001b[0m\u001b[0mlen\u001b[0m\u001b[0;34m(\u001b[0m\u001b[0mself\u001b[0m\u001b[0;34m.\u001b[0m\u001b[0moutputs\u001b[0m\u001b[0;34m)\u001b[0m\u001b[0;34m]\u001b[0m\u001b[0;34m\u001b[0m\u001b[0;34m\u001b[0m\u001b[0m\n\u001b[1;32m   2677\u001b[0m \u001b[0;34m\u001b[0m\u001b[0m\n",
      "\u001b[0;32m~/anaconda3/lib/python3.6/site-packages/tensorflow/python/client/session.py\u001b[0m in \u001b[0;36m__call__\u001b[0;34m(self, *args, **kwargs)\u001b[0m\n\u001b[1;32m   1437\u001b[0m           ret = tf_session.TF_SessionRunCallable(\n\u001b[1;32m   1438\u001b[0m               \u001b[0mself\u001b[0m\u001b[0;34m.\u001b[0m\u001b[0m_session\u001b[0m\u001b[0;34m.\u001b[0m\u001b[0m_session\u001b[0m\u001b[0;34m,\u001b[0m \u001b[0mself\u001b[0m\u001b[0;34m.\u001b[0m\u001b[0m_handle\u001b[0m\u001b[0;34m,\u001b[0m \u001b[0margs\u001b[0m\u001b[0;34m,\u001b[0m \u001b[0mstatus\u001b[0m\u001b[0;34m,\u001b[0m\u001b[0;34m\u001b[0m\u001b[0;34m\u001b[0m\u001b[0m\n\u001b[0;32m-> 1439\u001b[0;31m               run_metadata_ptr)\n\u001b[0m\u001b[1;32m   1440\u001b[0m         \u001b[0;32mif\u001b[0m \u001b[0mrun_metadata\u001b[0m\u001b[0;34m:\u001b[0m\u001b[0;34m\u001b[0m\u001b[0;34m\u001b[0m\u001b[0m\n\u001b[1;32m   1441\u001b[0m           \u001b[0mproto_data\u001b[0m \u001b[0;34m=\u001b[0m \u001b[0mtf_session\u001b[0m\u001b[0;34m.\u001b[0m\u001b[0mTF_GetBuffer\u001b[0m\u001b[0;34m(\u001b[0m\u001b[0mrun_metadata_ptr\u001b[0m\u001b[0;34m)\u001b[0m\u001b[0;34m\u001b[0m\u001b[0;34m\u001b[0m\u001b[0m\n",
      "\u001b[0;31mKeyboardInterrupt\u001b[0m: "
     ]
    }
   ],
   "source": [
    "#model.summary()\n",
    "n_iters = params['n_training_iter']\n",
    "\n",
    "for step in range(0, n_iters):\n",
    "    x, y = next(train_feed)\n",
    "\n",
    "    train_loss = model.train_on_batch(x, y)\n",
    "\n",
    "    util.printProgress(step, 0, train_loss)\n",
    "\n",
    "    if step > 0 and step % params['model_save_interval'] == 0:\n",
    "        model.save(network_dir + '/' + str(step) + '.h5')"
   ]
  },
  {
   "cell_type": "code",
   "execution_count": 18,
   "metadata": {
    "collapsed": true
   },
   "outputs": [],
   "source": [
    "from keras.applications.vgg19 import VGG19\n",
    "from keras.layers import AveragePooling2D, Conv2D, Input\n",
    "from keras.models import Model"
   ]
  },
  {
   "cell_type": "code",
   "execution_count": null,
   "metadata": {},
   "outputs": [
    {
     "name": "stdout",
     "output_type": "stream",
     "text": [
      "Downloading data from https://github.com/fchollet/deep-learning-models/releases/download/v0.1/vgg19_weights_tf_dim_ordering_tf_kernels_notop.h5\n"
     ]
    }
   ],
   "source": [
    "img_input = Input(shape=(256, 256, 3))\n",
    "\n",
    "x1 = Conv2D(64, (3, 3), activation='relu', padding='same', name='block1_conv1')(img_input)\n",
    "x2 = Conv2D(64, (3, 3), activation='relu', padding='same', name='block1_conv2')(x1)\n",
    "x3 = AveragePooling2D((2, 2), strides=(2, 2), name='block1_pool')(x2)\n",
    "\n",
    "x4 = Conv2D(128, (3, 3), activation='relu', padding='same', name='block2_conv1')(x3)\n",
    "x5 = Conv2D(128, (3, 3), activation='relu', padding='same', name='block2_conv2')(x4)\n",
    "x6 = AveragePooling2D((2, 2), strides=(2, 2), name='block2_pool')(x5)\n",
    "\n",
    "x7 = Conv2D(256, (3, 3), activation='relu', padding='same', name='block3_conv1')(x6)\n",
    "x8 = Conv2D(256, (3, 3), activation='relu', padding='same', name='block3_conv2')(x7)\n",
    "x9 = Conv2D(256, (3, 3), activation='relu', padding='same', name='block3_conv3')(x8)\n",
    "x10 = Conv2D(256, (3, 3), activation='relu', padding='same', name='block3_conv4')(x9)\n",
    "x11 = AveragePooling2D((2, 2), strides=(2, 2), name='block3_pool')(x10)\n",
    "\n",
    "x12 = Conv2D(512, (3, 3), activation='relu', padding='same', name='block4_conv1')(x11)\n",
    "x13 = Conv2D(512, (3, 3), activation='relu', padding='same', name='block4_conv2')(x12)\n",
    "x14 = Conv2D(512, (3, 3), activation='relu', padding='same', name='block4_conv3')(x13)\n",
    "x15 = Conv2D(512, (3, 3), activation='relu', padding='same', name='block4_conv4')(x14)\n",
    "x16 = AveragePooling2D((2, 2), strides=(2, 2), name='block4_pool')(x15)\n",
    "\n",
    "x17 = Conv2D(512, (3, 3), activation='relu', padding='same', name='block5_conv1')(x16)\n",
    "x18 = Conv2D(512, (3, 3), activation='relu', padding='same', name='block5_conv2')(x17)\n",
    "x19 = Conv2D(512, (3, 3), activation='relu', padding='same', name='block5_conv3')(x18)\n",
    "x20 = Conv2D(512, (3, 3), activation='relu', padding='same', name='block5_conv4')(x19)\n",
    "x21 = AveragePooling2D((2, 2), strides=(2, 2), name='block5_pool')(x20)\n",
    "\n",
    "model = Model(inputs=[img_input], outputs=[x1, x2, x4, x5, x7, x8, x9, x10, x12, x13, x14, x15])\n",
    "model_orig = VGG19(weights='imagenet', input_shape=(256, 256, 3), include_top=False)\n",
    "\n",
    "'''\n",
    "for i in range(len(model.layers)):\n",
    "    weights = model_orig.layers[i].get_weights()\n",
    "    model.layers[i].set_weights(weights)\n",
    "'''"
   ]
  },
  {
   "cell_type": "code",
   "execution_count": null,
   "metadata": {
    "collapsed": true
   },
   "outputs": [],
   "source": []
  }
 ],
 "metadata": {
  "kernelspec": {
   "display_name": "Python 3",
   "language": "python",
   "name": "python3"
  },
  "language_info": {
   "codemirror_mode": {
    "name": "ipython",
    "version": 3
   },
   "file_extension": ".py",
   "mimetype": "text/x-python",
   "name": "python",
   "nbconvert_exporter": "python",
   "pygments_lexer": "ipython3",
   "version": "3.6.8"
  }
 },
 "nbformat": 4,
 "nbformat_minor": 2
}
