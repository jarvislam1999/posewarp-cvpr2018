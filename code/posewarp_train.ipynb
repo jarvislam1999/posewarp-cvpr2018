{
 "cells": [
  {
   "cell_type": "code",
   "execution_count": 1,
   "metadata": {},
   "outputs": [
    {
     "name": "stderr",
     "output_type": "stream",
     "text": [
      "/software/Anaconda3-5.0.1-el7-x86_64/envs/DL_GPU_cuda_9.0/lib/python3.6/site-packages/h5py/__init__.py:36: FutureWarning: Conversion of the second argument of issubdtype from `float` to `np.floating` is deprecated. In future, it will be treated as `np.float64 == np.dtype(float).type`.\n",
      "  from ._conv import register_converters as _register_converters\n",
      "Using TensorFlow backend.\n"
     ]
    }
   ],
   "source": [
    "import tensorflow as tf\n",
    "import os\n",
    "import sys\n",
    "import data_generation\n",
    "import networks\n",
    "import scipy.io as sio\n",
    "import param\n",
    "import util\n",
    "import truncated_vgg\n",
    "from keras.backend.tensorflow_backend import set_session\n",
    "from keras.optimizers import Adam"
   ]
  },
  {
   "cell_type": "code",
   "execution_count": 2,
   "metadata": {},
   "outputs": [],
   "source": [
    "def train(model_name, gpu_id):\n",
    "    params = param.get_general_params()\n",
    "\n",
    "    network_dir = params['model_save_dir'] + '/' + model_name\n",
    "\n",
    "    if not os.path.isdir(network_dir):\n",
    "        os.mkdir(network_dir)\n",
    "\n",
    "    train_feed = data_generation.create_feed(params, params['data_dir'], 'train')\n",
    "\n",
    "    os.environ[\"CUDA_VISIBLE_DEVICES\"] = str(gpu_id)\n",
    "    config = tf.ConfigProto()\n",
    "    config.gpu_options.allow_growth = True\n",
    "    set_session(tf.Session(config=config))\n",
    "\n",
    "    vgg_model = truncated_vgg.vgg_norm()\n",
    "    networks.make_trainable(vgg_model, False)\n",
    "    response_weights = sio.loadmat('../data/vgg_activation_distribution_train.mat')\n",
    "    model = networks.network_posewarp(params)\n",
    "    model.compile(optimizer=Adam(lr=1e-4), loss=[networks.vgg_loss(vgg_model, response_weights, 12)])\n",
    "\n",
    "    #model.summary()\n",
    "    n_iters = params['n_training_iter']\n",
    "\n",
    "    for step in range(0, n_iters):\n",
    "        x, y = next(train_feed)\n",
    "\n",
    "        train_loss = model.train_on_batch(x, y)\n",
    "\n",
    "        util.printProgress(step, 0, train_loss)\n",
    "\n",
    "        if step > 0 and step % params['model_save_interval'] == 0:\n",
    "            model.save(network_dir + '/' + str(step) + '.h5')"
   ]
  },
  {
   "cell_type": "code",
   "execution_count": 3,
   "metadata": {},
   "outputs": [],
   "source": [
    "params = param.get_general_params()"
   ]
  },
  {
   "cell_type": "code",
   "execution_count": 4,
   "metadata": {},
   "outputs": [
    {
     "data": {
      "text/plain": [
       "{'IMG_HEIGHT': 256,\n",
       " 'IMG_WIDTH': 256,\n",
       " 'obj_scale_factor': 1.14,\n",
       " 'scale_max': 1.05,\n",
       " 'scale_min': 0.9,\n",
       " 'max_rotate_degree': 5,\n",
       " 'max_sat_factor': 0.05,\n",
       " 'max_px_shift': 10,\n",
       " 'posemap_downsample': 2,\n",
       " 'sigma_joint': 1.75,\n",
       " 'n_joints': 14,\n",
       " 'n_limbs': 10,\n",
       " 'limbs': [[0, 1],\n",
       "  [2, 3],\n",
       "  [3, 4],\n",
       "  [5, 6],\n",
       "  [6, 7],\n",
       "  [8, 9],\n",
       "  [9, 10],\n",
       "  [11, 12],\n",
       "  [12, 13],\n",
       "  [2, 5, 8, 11]],\n",
       " 'n_training_iter': 200000,\n",
       " 'test_interval': 500,\n",
       " 'model_save_interval': 1000,\n",
       " 'project_dir': '/home/jarvislam1999/posewarp-cvpr2018',\n",
       " 'model_save_dir': '/home/jarvislam1999/posewarp-cvpr2018/models',\n",
       " 'data_dir': '/path/to/dataset',\n",
       " 'batch_size': 4}"
      ]
     },
     "execution_count": 4,
     "metadata": {},
     "output_type": "execute_result"
    }
   ],
   "source": [
    "params"
   ]
  },
  {
   "cell_type": "code",
   "execution_count": 22,
   "metadata": {},
   "outputs": [
    {
     "name": "stdout",
     "output_type": "stream",
     "text": [
      "/home/jarvislam1999/posewarp-cvpr2018/code\n"
     ]
    }
   ],
   "source": []
  },
  {
   "cell_type": "code",
   "execution_count": 24,
   "metadata": {},
   "outputs": [],
   "source": [
    "model_name = 'vgg_100000.h5'"
   ]
  },
  {
   "cell_type": "code",
   "execution_count": 25,
   "metadata": {},
   "outputs": [],
   "source": [
    "network_dir = params['model_save_dir'] + '/' + model_name"
   ]
  },
  {
   "cell_type": "code",
   "execution_count": 26,
   "metadata": {},
   "outputs": [
    {
     "data": {
      "text/plain": [
       "'/home/jarvislam1999/posewarp-cvpr2018/models/vgg_100000.h5'"
      ]
     },
     "execution_count": 26,
     "metadata": {},
     "output_type": "execute_result"
    }
   ],
   "source": [
    "network_dir"
   ]
  },
  {
   "cell_type": "code",
   "execution_count": 34,
   "metadata": {},
   "outputs": [
    {
     "data": {
      "text/plain": [
       "False"
      ]
     },
     "execution_count": 34,
     "metadata": {},
     "output_type": "execute_result"
    }
   ],
   "source": []
  },
  {
   "cell_type": "code",
   "execution_count": 35,
   "metadata": {},
   "outputs": [],
   "source": [
    "train_feed = data_generation.create_feed(params, params['data_dir'], 'train')"
   ]
  },
  {
   "cell_type": "code",
   "execution_count": 30,
   "metadata": {},
   "outputs": [
    {
     "data": {
      "text/plain": [
       "<generator object warp_example_generator at 0x7f3d2602dca8>"
      ]
     },
     "execution_count": 30,
     "metadata": {},
     "output_type": "execute_result"
    }
   ],
   "source": [
    "train_feed"
   ]
  },
  {
   "cell_type": "code",
   "execution_count": null,
   "metadata": {},
   "outputs": [],
   "source": []
  }
 ],
 "metadata": {
  "kernelspec": {
   "display_name": "Python [conda env:DL_GPU_cuda_9.0]",
   "language": "python",
   "name": "conda-env-DL_GPU_cuda_9.0-py"
  },
  "language_info": {
   "codemirror_mode": {
    "name": "ipython",
    "version": 3
   },
   "file_extension": ".py",
   "mimetype": "text/x-python",
   "name": "python",
   "nbconvert_exporter": "python",
   "pygments_lexer": "ipython3",
   "version": "3.6.5"
  }
 },
 "nbformat": 4,
 "nbformat_minor": 2
}
